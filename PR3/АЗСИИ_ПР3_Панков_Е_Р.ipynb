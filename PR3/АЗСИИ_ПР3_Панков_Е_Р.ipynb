{
  "nbformat": 4,
  "nbformat_minor": 0,
  "metadata": {
    "colab": {
      "provenance": []
    },
    "kernelspec": {
      "name": "python3",
      "display_name": "Python 3"
    },
    "language_info": {
      "name": "python"
    }
  },
  "cells": [
    {
      "cell_type": "markdown",
      "source": [
        "# **Практика 3: Атака Carlini-Wagner (CW) на модели**\n",
        "\n",
        "По предмету: **Анализ защищенности систем искусственного интеллекта**\n",
        "\n",
        "Выполнил студент **2 курса** группы **ББМО-02-23**\n",
        "\n",
        "**Панков Евгений Ромуальдович**ИИ"
      ],
      "metadata": {
        "id": "nxQaoOXgCVnq"
      }
    },
    {
      "cell_type": "markdown",
      "source": [
        "##**Цель задания:**\n",
        "Изучить одну из наиболее мощных атак на модели ИИ — атаку `Carlini-Wagner` (`CW`). Задача —\n",
        "научиться использовать `CW` для создания противоречивых примеров и исследовать влияние этой\n",
        "атаки на обученные модели."
      ],
      "metadata": {
        "id": "7sAI3fB4C6Qy"
      }
    },
    {
      "cell_type": "markdown",
      "source": [
        "##**Задачи:**\n",
        "1. Загрузить ранее обученную модель на датасете `MNIST`;\n",
        "2. Изучить теоретические основы атаки `Carlini-Wagner`;\n",
        "3. Реализовать атаку `CW` с помощью фреймворка `Foolbox`;\n",
        "4. Оценить точность модели на противоречивых примерах и сравнить с результатами на обычных\n",
        "данных."
      ],
      "metadata": {
        "id": "GRUJfvmVDQC2"
      }
    },
    {
      "cell_type": "markdown",
      "source": [
        "##**Шаги выполнения:**"
      ],
      "metadata": {
        "id": "SvTFylJaDuQc"
      }
    },
    {
      "cell_type": "markdown",
      "source": [
        "###**Шаг 1: Загрузка обученной модели и данных `MNIST`**"
      ],
      "metadata": {
        "id": "ZNv9YApaD1NR"
      }
    },
    {
      "cell_type": "code",
      "source": [
        "import tensorflow as tf\n",
        "from tensorflow.keras.datasets import mnist\n",
        "from tensorflow.keras.utils import to_categorical\n",
        "# Загрузка тестовых данных MNIST:\n",
        "(_, _), (test_images, test_labels) = mnist.load_data()\n",
        "# Нормализация данных\n",
        "test_images = test_images / 255.0\n",
        "# Преобразование меток в формат one-hot:\n",
        "test_labels = to_categorical(test_labels, num_classes=10)\n",
        "# Загрузка обученной модели:\n",
        "model = tf.keras.models.load_model('/content/mnist_model.h5')\n",
        "# Проверка точности модели на обычных данных:\n",
        "test_loss, test_acc = model.evaluate(test_images, test_labels)\n",
        "print(f'Test accuracy on clean images: {test_acc}')"
      ],
      "metadata": {
        "colab": {
          "base_uri": "https://localhost:8080/"
        },
        "id": "jYaI39qgD7hb",
        "outputId": "dbcebdaa-7a54-48ac-f670-a11f58203e8e"
      },
      "execution_count": 20,
      "outputs": [
        {
          "output_type": "stream",
          "name": "stderr",
          "text": [
            "WARNING:absl:Compiled the loaded model, but the compiled metrics have yet to be built. `model.compile_metrics` will be empty until you train or evaluate the model.\n"
          ]
        },
        {
          "output_type": "stream",
          "name": "stdout",
          "text": [
            "\u001b[1m313/313\u001b[0m \u001b[32m━━━━━━━━━━━━━━━━━━━━\u001b[0m\u001b[37m\u001b[0m \u001b[1m1s\u001b[0m 2ms/step - accuracy: 0.9715 - loss: 0.0998\n",
            "Test accuracy on clean images: 0.9754999876022339\n"
          ]
        }
      ]
    },
    {
      "cell_type": "markdown",
      "source": [
        "###**Шаг 2: Теория Carlini-Wagner Attack**"
      ],
      "metadata": {
        "id": "_q_5cReqEYNU"
      }
    },
    {
      "cell_type": "markdown",
      "source": [
        "**Атака `Carlini-Wagner` (`CW`)**— это одна из наиболее эффективных атак, созданных для введения\n",
        "моделей в заблуждение. В отличие от `FGSM`, `CW` использует оптимизационный подход для создания минимальных изменений в изображении, которые приводят к ошибке в классификации модели.\n",
        "\n",
        "**Цель атаки**     — найти минимальные изменения в изображении, которые переводят его в другую\n",
        "категорию, оставаясь при этом визуально неотличимыми от оригинала.\n",
        "\n",
        "Атака `CW` может быть настроена по нескольким параметрам, например, для минимизации `L2`, `L0` или `L∞ норм`, что определяет, как именно модифицируется изображение"
      ],
      "metadata": {
        "id": "d46_FNGjEehY"
      }
    },
    {
      "cell_type": "markdown",
      "source": [
        "###**Шаг 3: Установка Foolbox и запуск CW-атаки**"
      ],
      "metadata": {
        "id": "feHZWMB7FmrW"
      }
    },
    {
      "cell_type": "markdown",
      "source": [
        "Для реализации атаки `Carlini-Wagner` будем использовать фреймворк `Foolbox`, который\n",
        "предоставляет удобные методы для выполнения различных атак на модели ИИ."
      ],
      "metadata": {
        "id": "Ma5sip1XFuHR"
      }
    },
    {
      "cell_type": "code",
      "source": [
        "!pip install foolbox"
      ],
      "metadata": {
        "colab": {
          "base_uri": "https://localhost:8080/"
        },
        "id": "qB-WvypjJxZ4",
        "outputId": "532aef06-06fe-47cc-b6a8-978bd4fadc4d"
      },
      "execution_count": 21,
      "outputs": [
        {
          "output_type": "stream",
          "name": "stdout",
          "text": [
            "Requirement already satisfied: foolbox in /usr/local/lib/python3.10/dist-packages (3.3.4)\n",
            "Requirement already satisfied: numpy in /usr/local/lib/python3.10/dist-packages (from foolbox) (1.26.4)\n",
            "Requirement already satisfied: scipy in /usr/local/lib/python3.10/dist-packages (from foolbox) (1.13.1)\n",
            "Requirement already satisfied: setuptools in /usr/local/lib/python3.10/dist-packages (from foolbox) (75.1.0)\n",
            "Requirement already satisfied: eagerpy>=0.30.0 in /usr/local/lib/python3.10/dist-packages (from foolbox) (0.30.0)\n",
            "Requirement already satisfied: GitPython>=3.0.7 in /usr/local/lib/python3.10/dist-packages (from foolbox) (3.1.43)\n",
            "Requirement already satisfied: typing-extensions>=3.7.4.1 in /usr/local/lib/python3.10/dist-packages (from foolbox) (4.12.2)\n",
            "Requirement already satisfied: requests>=2.24.0 in /usr/local/lib/python3.10/dist-packages (from foolbox) (2.32.3)\n",
            "Requirement already satisfied: gitdb<5,>=4.0.1 in /usr/local/lib/python3.10/dist-packages (from GitPython>=3.0.7->foolbox) (4.0.11)\n",
            "Requirement already satisfied: charset-normalizer<4,>=2 in /usr/local/lib/python3.10/dist-packages (from requests>=2.24.0->foolbox) (3.4.0)\n",
            "Requirement already satisfied: idna<4,>=2.5 in /usr/local/lib/python3.10/dist-packages (from requests>=2.24.0->foolbox) (3.10)\n",
            "Requirement already satisfied: urllib3<3,>=1.21.1 in /usr/local/lib/python3.10/dist-packages (from requests>=2.24.0->foolbox) (2.2.3)\n",
            "Requirement already satisfied: certifi>=2017.4.17 in /usr/local/lib/python3.10/dist-packages (from requests>=2.24.0->foolbox) (2024.8.30)\n",
            "Requirement already satisfied: smmap<6,>=3.0.1 in /usr/local/lib/python3.10/dist-packages (from gitdb<5,>=4.0.1->GitPython>=3.0.7->foolbox) (5.0.1)\n"
          ]
        }
      ]
    },
    {
      "cell_type": "markdown",
      "source": [
        "Реализация атаки `Carlini-Wagner`:"
      ],
      "metadata": {
        "id": "YTEgtDxVJ53a"
      }
    },
    {
      "cell_type": "code",
      "source": [
        "import foolbox as fb\n",
        "import numpy as np\n",
        "import tensorflow as tf\n",
        "import matplotlib.pyplot as plt\n",
        "\n",
        "# Инициализация Foolbox модели:\n",
        "fmodel = fb.TensorFlowModel(model, bounds=(0, 1))\n",
        "\n",
        "# Выбор изображения для атаки (например, первое изображение из тестового набора):\n",
        "# Добавляем размерность для батча:\n",
        "image = tf.convert_to_tensor(test_images[2], dtype=tf.float32)[None, ...]\n",
        "# Получаем индекс класса:\n",
        "label = np.argmax(test_labels[0])\n",
        "# Преобразуем в тензор:\n",
        "label = tf.convert_to_tensor(label, dtype=tf.int64)\n",
        "\n",
        "# Создание атаки Carlini-Wagner:\n",
        "attack = fb.attacks.L2CarliniWagnerAttack(steps=5)\n",
        "# Выполнение атаки\n",
        "adversarial_image, _, success = attack(fmodel, image, label[None], epsilons=0.01)\n",
        "\n",
        "# Вывод результатов:\n",
        "plt.figure(figsize=(30, 30))\n",
        "plt.subplot(1, 2, 1)\n",
        "plt.title(\"Оригинальное изображение\")\n",
        "plt.imshow(image[0].numpy(), cmap=\"gray\")\n",
        "plt.axis('off')\n",
        "\n",
        "plt.subplot(1, 2, 2)\n",
        "plt.title(\"Противоречивое изображение (CW Attack)\")\n",
        "plt.imshow(adversarial_image[0].numpy(), cmap=\"gray\")\n",
        "plt.axis('off')\n",
        "\n",
        "plt.show()"
      ],
      "metadata": {
        "id": "GbvGOPhZKFln",
        "colab": {
          "base_uri": "https://localhost:8080/",
          "height": 411
        },
        "outputId": "d3c341ed-4cde-46a0-f15b-3af3c2fe6fb8"
      },
      "execution_count": 23,
      "outputs": [
        {
          "output_type": "display_data",
          "data": {
            "text/plain": [
              "<Figure size 1000x1000 with 2 Axes>"
            ],
            "image/png": "[encoded data removed]"
          },
          "metadata": {}
        }
      ]
    },
    {
      "cell_type": "markdown",
      "source": [
        "###**Шаг 4: Оценка модели на противоречивых примерах**"
      ],
      "metadata": {
        "id": "sWvt2quiKW44"
      }
    },
    {
      "cell_type": "markdown",
      "source": [
        "После того, как мы сгенерировали противоречивые примеры, мы можем оценить, насколько атака\n",
        " `Carlini-Wagner` влияет на производительность модели."
      ],
      "metadata": {
        "id": "_CeS6i_nKjQv"
      }
    },
    {
      "cell_type": "code",
      "source": [
        "import torch\n",
        "\n",
        "# Установите количество обрабатываемых изображений:\n",
        "adversarial_images = []\n",
        "num_images = min(1000, len(test_images))\n",
        "\n",
        "# Обработка изображений:\n",
        "for i in range(num_images):\n",
        "    image = tf.convert_to_tensor(test_images[i], dtype=tf.float32)[None, ...]\n",
        "    label = np.argmax(test_labels[i])\n",
        "    label = tf.convert_to_tensor(label, dtype=tf.int64)\n",
        "    advs, _, success = attack(fmodel, image, label[None], epsilons=0.01)\n",
        "    adversarial_images.append(advs)\n",
        "\n",
        "# Конвертация списка в массив с правильной формой:\n",
        "adversarial_images = tf.concat(adversarial_images, axis=0)\n",
        "\n",
        "# Убедитесь, что test_labels имеют соответствующее количество меток:\n",
        "adversarial_loss, adversarial_acc = model.evaluate(adversarial_images, test_labels[:num_images])\n",
        "print(f'Accuracy on adversarial examples (CW attack): {adversarial_acc}')"
      ],
      "metadata": {
        "id": "ov5anpBuKhCK",
        "colab": {
          "base_uri": "https://localhost:8080/"
        },
        "outputId": "739ae297-a88f-499d-d85b-8b3b305de4bb"
      },
      "execution_count": 27,
      "outputs": [
        {
          "output_type": "stream",
          "name": "stdout",
          "text": [
            "\u001b[1m32/32\u001b[0m \u001b[32m━━━━━━━━━━━━━━━━━━━━\u001b[0m\u001b[37m\u001b[0m \u001b[1m0s\u001b[0m 3ms/step - accuracy: 0.0919 - loss: 2.4004\n",
            "Accuracy on adversarial examples (CW attack): 0.08299999684095383\n"
          ]
        }
      ]
    },
    {
      "cell_type": "markdown",
      "source": [
        "###**Шаг 5: Сравнение результатов**"
      ],
      "metadata": {
        "id": "FKFabFtiKycF"
      }
    },
    {
      "cell_type": "markdown",
      "source": [
        "**Вывод :**\n",
        "\n",
        "Точность модели на атакованных изображениях резко упала почти до нуля (особенно в сравнении с ее точностью на оригинальных данных), что указывает на её неспособность устойчиво классифицировать изображения в условиях целенаправленных, хоть и небольших, искажений.\n",
        "\n",
        "**Причины падения точности модели на атакованных изображениях:**\n",
        "1. Природа атак: Атаки, такие как атака Карлини-Уагнера (`Carlini-Wagner Attack`), специально разработаны для создания противоречивых примеров, которые вводят модель в заблуждение. Эти атаки минимизируют изменения, чтобы сделать их незаметными для человека, но достаточно сильными, чтобы сбить с толку модель. Поэтому модель может не распознавать атакованные изображения, что приводит к низкой точности.\n",
        "2. Сложность модели: Модели глубокого обучения часто обладают высокой чувствительностью к небольшим изменениям во входных данных. Даже незначительные искажения могут значительно повлиять на предсказания, особенно если модель не была обучена на таких примерах.\n",
        "3. Отсутствие устойчивости: Многие модели не обладают устойчивостью к атакам, если они не были специально обучены на противоречивых примерах. Если модель была обучена только на чистых данных, она может плохо справляться с атаками."
      ],
      "metadata": {
        "id": "mzolouy0D8dc"
      }
    }
  ]
}